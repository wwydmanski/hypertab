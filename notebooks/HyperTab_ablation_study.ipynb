{
  "nbformat": 4,
  "nbformat_minor": 0,
  "metadata": {
    "colab": {
      "provenance": [],
      "toc_visible": true
    },
    "kernelspec": {
      "name": "python3",
      "display_name": "Python 3"
    },
    "language_info": {
      "name": "python"
    },
    "gpuClass": "standard",
    "accelerator": "GPU"
  },
  "cells": [
    {
      "cell_type": "code",
      "source": [
        "!python -m pip install hypertab==0.1.5"
      ],
      "metadata": {
        "id": "yJ2kBbE46Zdv"
      },
      "execution_count": null,
      "outputs": []
    },
    {
      "cell_type": "markdown",
      "source": [
        "# HyperTab Ablation Study\n",
        "In this notebook we're going to recreate ablation study from the publication. Namely - let's check what happens if our dataset contains few informative features."
      ],
      "metadata": {
        "id": "7TJSQBA57peu"
      }
    },
    {
      "cell_type": "code",
      "execution_count": 2,
      "metadata": {
        "id": "bQlKNSOT4Fta"
      },
      "outputs": [],
      "source": [
        "from hypertab import HyperTabClassifier\n",
        "\n",
        "from sklearn.metrics import roc_auc_score, f1_score, precision_score, recall_score, balanced_accuracy_score\n",
        "from sklearn.preprocessing import LabelEncoder, StandardScaler\n",
        "from sklearn.model_selection import train_test_split\n",
        "\n",
        "import numpy as np\n",
        "import imblearn\n",
        "import pandas as pd\n",
        "import torch\n",
        "import seaborn as sns"
      ]
    },
    {
      "cell_type": "code",
      "source": [
        "# HyperTab is pretty slow, so we need to boost it using GPU\n",
        "DEVICE = \"cuda:0\""
      ],
      "metadata": {
        "id": "iNxVPmBdCEXu"
      },
      "execution_count": 40,
      "outputs": []
    },
    {
      "cell_type": "markdown",
      "source": [
        "## Prepare the data\n",
        "We are going to create a ridiculously small dataset - 5 classes and 50 samples. The dataset is going to have 50 columns, but 49 of them are going to be noise. Only one will be informative.\n",
        "\n",
        "We are going to test how well XGBoost and HyperTab does in scenario like this, and then we're going to analyze the reason for HyperTab's performance"
      ],
      "metadata": {
        "id": "yO_ZmqpF8FpA"
      }
    },
    {
      "cell_type": "code",
      "source": [
        "y = np.random.randint(0, 5, 50)\n",
        "X = np.random.random((50, 50))\n",
        "X[:, 0] = y\n",
        "\n",
        "max_size = int(len(X)*0.7)\n",
        "print(f\"Full dataset size: {X.shape}. Training size: {max_size}\")\n",
        "n_classes = len(np.unique(y))"
      ],
      "metadata": {
        "colab": {
          "base_uri": "https://localhost:8080/"
        },
        "id": "53iVnrcN6Yud",
        "outputId": "679117ee-3ba7-460e-a989-e6b16f0c4fc2"
      },
      "execution_count": 57,
      "outputs": [
        {
          "output_type": "stream",
          "name": "stdout",
          "text": [
            "Full dataset size: (50, 50). Training size: 35\n"
          ]
        }
      ]
    },
    {
      "cell_type": "code",
      "source": [
        "np.random.seed(42)\n",
        "\n",
        "def prepare_data(X, y, size=None):\n",
        "    X_train, X_test, y_train, y_test = train_test_split(X, y, train_size=size, stratify=y)\n",
        "    X_train, y_train = imblearn.over_sampling.RandomOverSampler(random_state=42).fit_resample(X_train, y_train)\n",
        "    \n",
        "    scaler = StandardScaler()\n",
        "    X_train = scaler.fit_transform(X_train)\n",
        "    X_test = scaler.transform(X_test)\n",
        "    \n",
        "    return X_train, X_test, y_train, y_test\n",
        "\n",
        "X_train, X_test, y_train, y_test = prepare_data(X, y)"
      ],
      "metadata": {
        "id": "YKvdsKGA8Aqj"
      },
      "execution_count": 58,
      "outputs": []
    },
    {
      "cell_type": "markdown",
      "source": [
        "## Check HyperTab performance"
      ],
      "metadata": {
        "id": "RTUFYk_q9S2F"
      }
    },
    {
      "cell_type": "code",
      "source": [
        "def get_hypernetwork():\n",
        "    return HyperTabClassifier(0.2, device=DEVICE, test_nodes=250, epochs=10, hidden_dims=5)"
      ],
      "metadata": {
        "id": "_7rC9XEW9WJs"
      },
      "execution_count": 59,
      "outputs": []
    },
    {
      "cell_type": "code",
      "source": [
        "%%time\n",
        "\n",
        "hypertab = get_hypernetwork()\n",
        "hypertab.fit(X_train, y_train)\n",
        "y_pred = hypertab.predict(X_test)\n",
        "\n",
        "bacc = balanced_accuracy_score(y_test, y_pred)\n",
        "print(f\"Balanced accuracy: {bacc*100:.2f}%\\n\")"
      ],
      "metadata": {
        "colab": {
          "base_uri": "https://localhost:8080/"
        },
        "id": "v2rI9t659aNw",
        "outputId": "ce2564ea-0a50-4794-feb7-f53e810da4b3"
      },
      "execution_count": 60,
      "outputs": [
        {
          "output_type": "stream",
          "name": "stdout",
          "text": [
            "Balanced accuracy: 100.00%\n",
            "\n",
            "CPU times: user 6.71 s, sys: 563 ms, total: 7.28 s\n",
            "Wall time: 7.62 s\n"
          ]
        }
      ]
    },
    {
      "cell_type": "markdown",
      "source": [
        "## Ablation analysis"
      ],
      "metadata": {
        "id": "pMgrtPAcEGIX"
      }
    },
    {
      "cell_type": "markdown",
      "source": [
        "### How many test nodes use the only informative feature?"
      ],
      "metadata": {
        "id": "rvklXhzTElwS"
      }
    },
    {
      "cell_type": "code",
      "source": [
        "print(f\"{hypertab.interface.network.test_mask[:, 0].sum()/len(hypertab.interface.network.test_mask)*100:.0f}%\")"
      ],
      "metadata": {
        "colab": {
          "base_uri": "https://localhost:8080/"
        },
        "id": "8l3utwNOEV-Z",
        "outputId": "efb79fb5-87e7-4290-db56-a30c4ee57433"
      },
      "execution_count": 61,
      "outputs": [
        {
          "output_type": "stream",
          "name": "stdout",
          "text": [
            "17%\n"
          ]
        }
      ]
    },
    {
      "cell_type": "markdown",
      "source": [
        "### What is the voting distribution among them?"
      ],
      "metadata": {
        "id": "R_O0RRNeGRoX"
      }
    },
    {
      "cell_type": "code",
      "source": [
        "X_test_torch = torch.from_numpy(X_test).to(DEVICE).to(torch.float)\n",
        "\n",
        "using_info = hypertab.interface.network.test_mask[:, 0].to(bool)\n",
        "masks = hypertab.interface.network.test_mask[using_info].to(torch.float)\n",
        "votes_informative = hypertab.interface.network(X_test_torch, masks)\n",
        "\n",
        "using_info = ~hypertab.interface.network.test_mask[:, 0].to(bool)\n",
        "masks = hypertab.interface.network.test_mask[using_info]\n",
        "votes_uninformative = hypertab.interface.network(X_test_torch, masks)"
      ],
      "metadata": {
        "id": "jLv9l4WPEkjb"
      },
      "execution_count": 69,
      "outputs": []
    },
    {
      "cell_type": "code",
      "source": [
        "import matplotlib.pyplot as plt\n",
        "\n",
        "plt.style.use(\"default\")\n",
        "ax = plt.gca()\n",
        "pd.DataFrame(votes_informative.ravel().detach().cpu()).plot(kind=\"hist\", ax=ax, density=True, color=\"#226c51\")\n",
        "pd.DataFrame(votes_uninformative.ravel().detach().cpu()).plot(kind=\"hist\", ax=ax, density=True, color=\"#e87212\")\n",
        "plt.legend([\"Informative\", \"Uninformative\"]);"
      ],
      "metadata": {
        "colab": {
          "base_uri": "https://localhost:8080/",
          "height": 435
        },
        "id": "mZNbpUH1E-xA",
        "outputId": "855c8a87-a378-4a72-dc9a-74acd458fd03"
      },
      "execution_count": 68,
      "outputs": [
        {
          "output_type": "display_data",
          "data": {
            "text/plain": [
              "<Figure size 640x480 with 1 Axes>"
            ],
            "image/png": "[encoded data removed]"
          },
          "metadata": {}
        }
      ]
    },
    {
      "cell_type": "code",
      "source": [],
      "metadata": {
        "id": "2v7ojRZkFBSA"
      },
      "execution_count": null,
      "outputs": []
    }
  ]
}
