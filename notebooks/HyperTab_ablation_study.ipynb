{
  "cells": [
    {
      "cell_type": "code",
      "execution_count": null,
      "metadata": {
        "id": "yJ2kBbE46Zdv"
      },
      "outputs": [],
      "source": [
        "!python -m pip install hypertab==0.1.5"
      ]
    },
    {
      "cell_type": "markdown",
      "metadata": {
        "id": "7TJSQBA57peu"
      },
      "source": [
        "# HyperTab Ablation Study\n",
        "In this notebook we're going to recreate ablation study from the publication. Namely - let's check what happens if our dataset contains few informative features."
      ]
    },
    {
      "cell_type": "code",
      "execution_count": 1,
      "metadata": {
        "id": "bQlKNSOT4Fta"
      },
      "outputs": [],
      "source": [
        "from hypertab import HyperTabClassifier\n",
        "\n",
        "from sklearn.metrics import roc_auc_score, f1_score, precision_score, recall_score, balanced_accuracy_score\n",
        "from sklearn.preprocessing import LabelEncoder, StandardScaler\n",
        "from sklearn.model_selection import train_test_split\n",
        "\n",
        "import numpy as np\n",
        "import imblearn\n",
        "import pandas as pd\n",
        "import torch\n",
        "import seaborn as sns"
      ]
    },
    {
      "cell_type": "code",
      "execution_count": 2,
      "metadata": {
        "id": "iNxVPmBdCEXu"
      },
      "outputs": [],
      "source": [
        "# HyperTab is pretty slow, so we need to boost it using GPU\n",
        "DEVICE = \"cuda:0\""
      ]
    },
    {
      "cell_type": "markdown",
      "metadata": {
        "id": "yO_ZmqpF8FpA"
      },
      "source": [
        "## Prepare the data\n",
        "We are going to create a ridiculously small dataset - 5 classes and 50 samples. The dataset is going to have 50 columns, but 49 of them are going to be noise. Only one will be informative.\n",
        "\n",
        "We are going to test how well XGBoost and HyperTab does in scenario like this, and then we're going to analyze the reason for HyperTab's performance"
      ]
    },
    {
      "cell_type": "code",
      "execution_count": 3,
      "metadata": {
        "colab": {
          "base_uri": "https://localhost:8080/"
        },
        "id": "53iVnrcN6Yud",
        "outputId": "679117ee-3ba7-460e-a989-e6b16f0c4fc2"
      },
      "outputs": [
        {
          "name": "stdout",
          "output_type": "stream",
          "text": [
            "Full dataset size: (50, 50). Training size: 35\n"
          ]
        }
      ],
      "source": [
        "y = np.random.randint(0, 5, 50)\n",
        "X = np.random.random((50, 50))\n",
        "X[:, 0] = y\n",
        "\n",
        "max_size = int(len(X)*0.7)\n",
        "print(f\"Full dataset size: {X.shape}. Training size: {max_size}\")\n",
        "n_classes = len(np.unique(y))"
      ]
    },
    {
      "cell_type": "code",
      "execution_count": 4,
      "metadata": {
        "id": "YKvdsKGA8Aqj"
      },
      "outputs": [],
      "source": [
        "np.random.seed(42)\n",
        "\n",
        "def prepare_data(X, y, size=None):\n",
        "    X_train, X_test, y_train, y_test = train_test_split(X, y, train_size=size, stratify=y)\n",
        "    X_train, y_train = imblearn.over_sampling.RandomOverSampler(random_state=42).fit_resample(X_train, y_train)\n",
        "    \n",
        "    scaler = StandardScaler()\n",
        "    X_train = scaler.fit_transform(X_train)\n",
        "    X_test = scaler.transform(X_test)\n",
        "    \n",
        "    return X_train, X_test, y_train, y_test\n",
        "\n",
        "X_train, X_test, y_train, y_test = prepare_data(X, y)"
      ]
    },
    {
      "cell_type": "markdown",
      "metadata": {
        "id": "RTUFYk_q9S2F"
      },
      "source": [
        "## Check HyperTab performance"
      ]
    },
    {
      "cell_type": "code",
      "execution_count": 5,
      "metadata": {
        "id": "_7rC9XEW9WJs"
      },
      "outputs": [],
      "source": [
        "def get_hypernetwork():\n",
        "    return HyperTabClassifier(0.2, device=DEVICE, test_nodes=250, epochs=10, hidden_dims=5)"
      ]
    },
    {
      "cell_type": "code",
      "execution_count": 6,
      "metadata": {
        "colab": {
          "base_uri": "https://localhost:8080/"
        },
        "id": "v2rI9t659aNw",
        "outputId": "ce2564ea-0a50-4794-feb7-f53e810da4b3"
      },
      "outputs": [
        {
          "name": "stdout",
          "output_type": "stream",
          "text": [
            "Balanced accuracy: 100.00%\n",
            "\n",
            "CPU times: user 16.3 s, sys: 1.37 s, total: 17.7 s\n",
            "Wall time: 29.9 s\n"
          ]
        }
      ],
      "source": [
        "%%time\n",
        "\n",
        "hypertab = get_hypernetwork()\n",
        "hypertab.fit(X_train, y_train)\n",
        "y_pred = hypertab.predict(X_test)\n",
        "\n",
        "bacc = balanced_accuracy_score(y_test, y_pred)\n",
        "print(f\"Balanced accuracy: {bacc*100:.2f}%\\n\")"
      ]
    },
    {
      "cell_type": "markdown",
      "metadata": {
        "id": "pMgrtPAcEGIX"
      },
      "source": [
        "## Ablation analysis"
      ]
    },
    {
      "cell_type": "markdown",
      "metadata": {
        "id": "rvklXhzTElwS"
      },
      "source": [
        "### How many test nodes use the only informative feature?"
      ]
    },
    {
      "cell_type": "code",
      "execution_count": 7,
      "metadata": {
        "colab": {
          "base_uri": "https://localhost:8080/"
        },
        "id": "8l3utwNOEV-Z",
        "outputId": "efb79fb5-87e7-4290-db56-a30c4ee57433"
      },
      "outputs": [
        {
          "name": "stdout",
          "output_type": "stream",
          "text": [
            "17%\n"
          ]
        }
      ],
      "source": [
        "print(f\"{hypertab.interface.network.test_mask[:, 0].sum()/len(hypertab.interface.network.test_mask)*100:.0f}%\")"
      ]
    },
    {
      "cell_type": "markdown",
      "metadata": {
        "id": "R_O0RRNeGRoX"
      },
      "source": [
        "### What is the voting distribution among them?"
      ]
    },
    {
      "cell_type": "code",
      "execution_count": 8,
      "metadata": {
        "id": "jLv9l4WPEkjb"
      },
      "outputs": [],
      "source": [
        "X_test_torch = torch.from_numpy(X_test).to(DEVICE).to(torch.float)\n",
        "\n",
        "using_info = hypertab.interface.network.test_mask[:, 0].to(bool)\n",
        "masks = hypertab.interface.network.test_mask[using_info].to(torch.float)\n",
        "votes_informative = hypertab.interface.network(X_test_torch, masks)\n",
        "\n",
        "using_info = ~hypertab.interface.network.test_mask[:, 0].to(bool)\n",
        "masks = hypertab.interface.network.test_mask[using_info]\n",
        "votes_uninformative = hypertab.interface.network(X_test_torch, masks)"
      ]
    },
    {
      "cell_type": "code",
      "execution_count": 9,
      "metadata": {
        "colab": {
          "base_uri": "https://localhost:8080/",
          "height": 435
        },
        "id": "mZNbpUH1E-xA",
        "outputId": "855c8a87-a378-4a72-dc9a-74acd458fd03"
      },
      "outputs": [
        {
          "data": {
            "image/png": "[encoded data removed]",
            "text/plain": [
              "<Figure size 640x480 with 1 Axes>"
            ]
          },
          "metadata": {},
          "output_type": "display_data"
        }
      ],
      "source": [
        "import matplotlib.pyplot as plt\n",
        "\n",
        "plt.style.use(\"default\")\n",
        "ax = plt.gca()\n",
        "pd.DataFrame(votes_informative.ravel().detach().cpu()).plot(kind=\"hist\", ax=ax, density=True, color=\"#226c51\")\n",
        "pd.DataFrame(votes_uninformative.ravel().detach().cpu()).plot(kind=\"hist\", ax=ax, density=True, color=\"#e87212\")\n",
        "plt.legend([\"Informative\", \"Uninformative\"]);"
      ]
    },
    {
      "cell_type": "code",
      "execution_count": null,
      "metadata": {
        "id": "2v7ojRZkFBSA"
      },
      "outputs": [],
      "source": []
    }
  ],
  "metadata": {
    "accelerator": "GPU",
    "colab": {
      "provenance": [],
      "toc_visible": true
    },
    "gpuClass": "standard",
    "kernelspec": {
      "display_name": "Python 3",
      "name": "python3"
    },
    "language_info": {
      "codemirror_mode": {
        "name": "ipython",
        "version": 3
      },
      "file_extension": ".py",
      "mimetype": "text/x-python",
      "name": "python",
      "nbconvert_exporter": "python",
      "pygments_lexer": "ipython3",
      "version": "3.9.16"
    }
  },
  "nbformat": 4,
  "nbformat_minor": 0
}
